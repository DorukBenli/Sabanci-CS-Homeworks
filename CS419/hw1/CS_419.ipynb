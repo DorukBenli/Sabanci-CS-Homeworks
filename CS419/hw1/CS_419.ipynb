{
  "nbformat": 4,
  "nbformat_minor": 0,
  "metadata": {
    "colab": {
      "provenance": [],
      "gpuType": "T4"
    },
    "kernelspec": {
      "name": "python3",
      "display_name": "Python 3"
    },
    "language_info": {
      "name": "python"
    }
  },
  "cells": [
    {
      "cell_type": "markdown",
      "source": [
        "# Documentation\n",
        "\n",
        "we first use opencv to initialize the binary image, that is the only usage of opencv in this code piece, the rest of the functions do not use any functionalliyu of opencv.\n",
        "\n",
        "then after loading the image we make sure that its a binary image by dividing every pixel value by 255 and making the image's data type as integer, since 0.any_num is 0 in terms of integer and 255/255 is 1, we have a binary image.\n",
        "\n",
        "then we continue by defining the 4 required structuring elements ats its decsribed in the chapter 9.5 of woods and gozalez.\n",
        "\n",
        "# Erosion\n",
        "\n",
        "the functionallity of erosion is simple, it simply checks if all the 1s in structuring element fits inside the binary image which is simply 1s. For the sake of simplicity and efficiency, we use numpy's functions to check if all 1s fit in. In the upcoming functions we also use numpy's functions to describe union and intersection as logical ors and logical ands.\n",
        "\n",
        "# hit_or_miss\n",
        "\n",
        "the definition of hit or miss is simple, so the code fully replicates the definition of hit oe miss function by using numpy.\n",
        "\n",
        "# find_foregorud_extremes\n",
        "\n",
        "this function simply calculates the peak points of the cat image, it actually calculates the max and lowest row and column number of any image given as parameter but in this case it finds the max and min column and row numbers which again uses numpy to find 1s in binary image and picks the max/min values.\n",
        "This function will provide reference for the part that will be used to filter out extensive thickening operation done by convex hull function for each structuring element.\n",
        "# convex_hull\n",
        "finds the convex hull of a binary image given as parameter, this function iteratively updates the parameter by using hit or miss and logically_or function of numpy, we logically or because it serves as union operator for binary images since 1 + 0 = 1 in boolean algebra as well as 1+1 = 1. so we union 2 images with that. we continue once we have kth image which is exactly same as k-1th image. we repeat this process for each structuring element. then call find_foregorud_extremes to get the final convex hull.\n",
        "\n",
        "\n"
      ],
      "metadata": {
        "id": "l2G_V0_MrnFm"
      }
    },
    {
      "cell_type": "code",
      "source": [
        "import cv2\n",
        "import numpy as np\n",
        "from google.colab import drive\n",
        "from google.colab.patches import cv2_imshow\n",
        "import matplotlib.pyplot as plt\n",
        "\n",
        "\n",
        "image = cv2.imread('/content/drive/MyDrive/perfectly_painted_cat.png', cv2.IMREAD_GRAYSCALE)\n",
        "\n",
        "_, binary_image = cv2.threshold(image, 127, 255, cv2.THRESH_BINARY)\n",
        "\n",
        "binary_image = binary_image / 255\n",
        "\n",
        "binary_image = binary_image.astype(int)\n",
        "\n",
        "B1 = np.array([[1, 0, 0],\n",
        "               [1, 0, 0],\n",
        "               [1, 0, 0]])\n",
        "\n",
        "B2 = np.array([[1, 1, 1],\n",
        "               [0, 0, 0],\n",
        "               [0, 0, 0]])\n",
        "\n",
        "B3 = np.array([[0, 0, 1],\n",
        "               [0, 0, 1],\n",
        "               [0, 0, 1]])\n",
        "\n",
        "B4 = np.array([[0, 0, 0],\n",
        "               [0, 0, 0],\n",
        "               [1, 1, 1]])\n",
        "\n",
        "BE = np.array([[0, 0, 0],\n",
        "               [0, 1, 0],\n",
        "               [0, 0, 0]])\n",
        "\n",
        "\n",
        "def erosion(binary_image, struct_element):\n",
        "    height, width = binary_image.shape\n",
        "    se_height, se_width = struct_element.shape\n",
        "\n",
        "    offset_y = se_height // 2\n",
        "    offset_x = se_width // 2\n",
        "    eroded_image = np.zeros_like(binary_image)\n",
        "\n",
        "    for i in range(offset_y, height - offset_y):\n",
        "        for j in range(offset_x, width - offset_x):\n",
        "            region = binary_image[i - offset_y:i + offset_y + 1, j - offset_x:j + offset_x + 1]\n",
        "            if np.all(region[struct_element == 1]):\n",
        "                eroded_image[i, j] = 1\n",
        "    return eroded_image\n",
        "\n",
        "def hit_or_miss(img, B, Bg):\n",
        "    return np.logical_and(erosion(img, B), erosion(np.logical_not(img), Bg))\n",
        "\n",
        "def find_foreground_extremes(img):\n",
        "    rows, cols = np.where(img == 1)\n",
        "\n",
        "    if not rows.size or not cols.size:\n",
        "        return None\n",
        "    min_row, max_row = np.min(rows), np.max(rows)\n",
        "    min_col, max_col = np.min(cols), np.max(cols)\n",
        "\n",
        "    return min_row, max_row, min_col, max_col\n",
        "\n",
        "\n",
        "def convex_hull(img):\n",
        "    start_img = img.copy()\n",
        "    prev_img = img.copy()\n",
        "    for B in [B1, B2, B3, B4]:\n",
        "        while True:\n",
        "            hit_or_miss_result = hit_or_miss(prev_img, B, BE)\n",
        "            img = np.logical_or(prev_img, hit_or_miss_result)\n",
        "            if np.array_equal(prev_img, img):\n",
        "                break\n",
        "            prev_img = img.copy()\n",
        "\n",
        "\n",
        "    extremes = find_foreground_extremes(start_img)\n",
        "    min_row, max_row, min_col, max_col = extremes\n",
        "    filter = np.zeros(img.shape)\n",
        "    filter[min_row:max_row+1, min_col:max_col+1] = 1\n",
        "    result = np.logical_and(img, filter)\n",
        "    return result\n",
        "\n",
        "\n",
        "convex_hull_image = convex_hull(binary_image)\n",
        "plt.imshow(convex_hull_image, cmap='gray')\n",
        "plt.axis('off')\n",
        "plt.show()"
      ],
      "metadata": {
        "colab": {
          "base_uri": "https://localhost:8080/",
          "height": 406
        },
        "id": "80lr9wTvlNHJ",
        "outputId": "fefbe582-2c1d-4ba1-b1aa-254ca316b08d"
      },
      "execution_count": 27,
      "outputs": [
        {
          "output_type": "display_data",
          "data": {
            "text/plain": [
              "<Figure size 640x480 with 1 Axes>"
            ],
            "image/png": "[encoded data removed]"
          },
          "metadata": {}
        }
      ]
    }
  ]
}